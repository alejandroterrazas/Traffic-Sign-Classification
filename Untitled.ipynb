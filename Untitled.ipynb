{
 "cells": [
  {
   "cell_type": "code",
   "execution_count": null,
   "metadata": {
    "collapsed": true
   },
   "outputs": [],
   "source": [
    "import glob\n",
    "\n",
    "testimages = glob.glob(\"./cropped*\")\n",
    "print(testimages)\n",
    "\n",
    "graph = tf.get_default_graph()\n",
    "init = tf.global_variables_initializer()\n",
    "\n",
    "with tf.Session() as sess:\n",
    "\n",
    "    saver = tf.train.import_meta_graph('model_final.meta')\n",
    "    saver.restore(sess,tf.train.latest_checkpoint('./'))\n",
    "    correct_pred = graph.get_tensor_by_name(\"correct_pred:0\")\n",
    "    prob_vec = graph.get_tensor_by_name(\"prob_vec:0\")\n",
    "    \n",
    "    x = graph.get_tensor_by_name(\"x:0\")\n",
    "    y = graph.get_tensor_by_name(\"y:0\")\n",
    "    keep_prob = graph.get_tensor_by_name(\"keep_prob:0\")\n",
    "    correct_pred = graph.get_tensor_by_name(\"correct_pred:0\")\n",
    "    #print(correct_pred)\n",
    "    #preds = sess.run(correct_pred, feed_dict={x: batch_x, y: batch_y, keep_prob: 1.0})\n",
    "    accuracy = graph.get_tensor_by_name(\"accuracy:0\")    \n",
    "    #print(accuracy)\n",
    "    for imagename in testimages:\n",
    "       testimage = cv2.cvtColor(cv2.imread(imagename), \n",
    "                                cv2.COLOR_BGR2RGB)\n",
    "       scaled_test = testimage/np.max(testimage)\n",
    "       print(np.max(scaled_test))\n",
    "       print(np.min(scaled_test))\n",
    "       plt.imshow(testimage)\n",
    "       plt.show()\n",
    "       testvec = np.zeros([1,32,32,3])\n",
    "       testvec[0,:,:,:] = testimage\n",
    "        \n",
    "       pred = sess.run(prob_vec, \n",
    "                           feed_dict={x: testvec, y: batch_y,\n",
    "                                      keep_prob: 1.})\n",
    "       #print(pred)\n",
    "       sorted_indices = np.argsort(pred)[0]\n",
    "       s_i = sorted_indices[::-1][:5]\n",
    "       \n",
    "       print(\"top 5 probs\", pred[0][s_i])\n",
    "       print(\"top_5_index\", s_i)\n",
    " \n",
    "       y_index = np.where(y_train==s_i[0])\n",
    "       plt.imshow(X_train[y_index[0][0],:,:,:])\n",
    "       plt.show()\n",
    "       for i in range(1,5):\n",
    "          plt.subplot(1,4,i)\n",
    "          y_index = np.where(y_train==s_i[i])            \n",
    "          plt.imshow(X_train[y_index[0][0],:,:,:])\n",
    "       plt.show()\n",
    "  "
   ]
  },
  {
   "cell_type": "code",
   "execution_count": null,
   "metadata": {},
   "outputs": [],
   "source": [
    "def return_activation(layer, presentation_image):\n",
    "    neural_activations = sess.run.layer, feed_dict={x: presentation_image, keep_prob:1.0}\n",
    "    n_feature_maps = np.shape(neural_activations[3])\n",
    "    for map in range(nfeature_maps):\n",
    "        plt.imshow(neural_activations[:,:,map])\n",
    "        plt.show()\n",
    "        "
   ]
  }
 ],
 "metadata": {
  "kernelspec": {
   "display_name": "Python 3",
   "language": "python",
   "name": "python3"
  },
  "language_info": {
   "codemirror_mode": {
    "name": "ipython",
    "version": 3
   },
   "file_extension": ".py",
   "mimetype": "text/x-python",
   "name": "python",
   "nbconvert_exporter": "python",
   "pygments_lexer": "ipython3",
   "version": "3.5.2"
  },
  "widgets": {
   "state": {},
   "version": "1.1.2"
  }
 },
 "nbformat": 4,
 "nbformat_minor": 2
}
